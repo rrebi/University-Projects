{
 "cells": [
  {
   "cell_type": "markdown",
   "id": "b8210b19",
   "metadata": {},
   "source": [
    "## A.I. Assignment 5\n",
    "\n",
    "## Learning Goals\n",
    "\n",
    "By the end of this lab, you should be able to:\n",
    "* Get more familiar with tensors in pytorch \n",
    "* Create a simple multilayer perceptron model with pytorch\n",
    "* Visualise the parameters\n",
    "\n",
    "\n",
    "### Task\n",
    "\n",
    "Build a fully connected feed forward network that adds two bits. Determine the a propper achitecture for this network (what database you use for this problem? how many layers? how many neurons on each layer? what is the activation function? what is the loss function? etc)\n",
    "\n",
    "Create at least 3 such networks and compare their performance (how accurate they are?, how farst they are trained to get at 1 accuracy?)\n",
    "\n",
    "Display for the best one the weights for each layer.\n"
   ]
  },
  {
   "cell_type": "code",
   "execution_count": 1,
   "id": "e3614e5f",
   "metadata": {},
   "outputs": [],
   "source": [
    "import torch\n",
    "import torch.nn as nn\n",
    "from collections import OrderedDict\n"
   ]
  },
  {
   "cell_type": "code",
   "execution_count": 37,
   "id": "5ee7e7d7",
   "metadata": {},
   "outputs": [],
   "source": [
    "# your code here\n",
    "#model1 = nn.Sequential(OrderedDict([\n",
    "#    ('hidden', nn.\n",
    "#]))\n",
    "\n",
    "model1 = nn.Sequential(OrderedDict([\n",
    "    ('hidden', nn.Linear(2, 4)),\n",
    "    ('tanh', nn.Tanh()),\n",
    "    ('output', nn.Linear(4, 2)),\n",
    "    ('sigmoid', nn.Sigmoid())\n",
    "]))\n",
    "\n",
    "  \n",
    "model2 = nn.Sequential(OrderedDict([\n",
    "    ('hidden', nn.Linear(2, 20)),\n",
    "    ('sigmoid', nn.Sigmoid()),\n",
    "    ('output', nn.Linear(20, 2)),\n",
    "    ('sigmoid', nn.Sigmoid())\n",
    "]))\n",
    "\n",
    "model3 = nn.Sequential(OrderedDict([\n",
    "    ('hidden', nn.Linear(2, 4)),\n",
    "    ('leaky_relu', nn.LeakyReLU()),\n",
    "    ('output', nn.Linear(4, 2)),\n",
    "    ('tanh', nn.Tanh())\n",
    "]))"
   ]
  },
  {
   "cell_type": "code",
   "execution_count": 38,
   "id": "665ae958",
   "metadata": {},
   "outputs": [
    {
     "name": "stdout",
     "output_type": "stream",
     "text": [
      "Sequential(\n",
      "  (hidden): Linear(in_features=2, out_features=4, bias=True)\n",
      "  (tanh): Tanh()\n",
      "  (output): Linear(in_features=4, out_features=2, bias=True)\n",
      "  (sigmoid): Sigmoid()\n",
      ")\n",
      "Sequential(\n",
      "  (hidden): Linear(in_features=2, out_features=20, bias=True)\n",
      "  (sigmoid): Sigmoid()\n",
      "  (output): Linear(in_features=20, out_features=2, bias=True)\n",
      ")\n",
      "Sequential(\n",
      "  (hidden): Linear(in_features=2, out_features=4, bias=True)\n",
      "  (leaky_relu): LeakyReLU(negative_slope=0.01)\n",
      "  (output): Linear(in_features=4, out_features=2, bias=True)\n",
      "  (tanh): Tanh()\n",
      ")\n"
     ]
    }
   ],
   "source": [
    "print(model1)\n",
    "print(model2)\n",
    "print(model3)"
   ]
  },
  {
   "cell_type": "code",
   "execution_count": 39,
   "id": "e26f0d3e",
   "metadata": {},
   "outputs": [
    {
     "name": "stdout",
     "output_type": "stream",
     "text": [
      "tensor([[0., 0.],\n",
      "        [0., 1.],\n",
      "        [1., 0.],\n",
      "        [1., 1.]])\n"
     ]
    }
   ],
   "source": [
    "# your code here\n",
    "#data_in = torch.tensor( ...\n",
    "data_in = torch.tensor([[0, 0], [0, 1], [1, 0], [1, 1]], dtype=torch.float)\n",
    "print(data_in)"
   ]
  },
  {
   "cell_type": "code",
   "execution_count": 40,
   "id": "4fb16bbc",
   "metadata": {},
   "outputs": [
    {
     "name": "stdout",
     "output_type": "stream",
     "text": [
      "tensor([[0., 0.],\n",
      "        [0., 1.],\n",
      "        [0., 1.],\n",
      "        [1., 0.]])\n"
     ]
    }
   ],
   "source": [
    "# your code here\n",
    "# data_target = torch.tensor( ...\n",
    "data_target = torch.tensor([[0,0], [0,1], [0,1], [1,0]], dtype=torch.float)\n",
    "print(data_target)"
   ]
  },
  {
   "cell_type": "code",
   "execution_count": 41,
   "id": "69d920ed",
   "metadata": {},
   "outputs": [],
   "source": [
    "# your code here\n",
    "# criterion = \n",
    "# optimizer = \n",
    "\n",
    "criterion = nn.MSELoss()\n",
    "optimizer1 = torch.optim.SGD(model1.parameters(), lr=0.1) # calculates gradients with learning rate 0.1\n",
    "optimizer2 = torch.optim.SGD(model2.parameters(), lr=0.1)\n",
    "optimizer3 = torch.optim.SGD(model3.parameters(), lr=0.1)"
   ]
  },
  {
   "cell_type": "code",
   "execution_count": 57,
   "id": "cde91f6f",
   "metadata": {},
   "outputs": [
    {
     "name": "stdout",
     "output_type": "stream",
     "text": [
      "MODEL 1\n",
      "Epoch [100/1000] | Loss: 0.0084\n",
      "Epoch [200/1000] | Loss: 0.0079\n",
      "Epoch [300/1000] | Loss: 0.0074\n",
      "Epoch [400/1000] | Loss: 0.0070\n",
      "Epoch [500/1000] | Loss: 0.0067\n",
      "Epoch [600/1000] | Loss: 0.0064\n",
      "Epoch [700/1000] | Loss: 0.0061\n",
      "Epoch [800/1000] | Loss: 0.0058\n",
      "Epoch [900/1000] | Loss: 0.0055\n",
      "Epoch [1000/1000] | Loss: 0.0053\n",
      "MODEL 2\n",
      "Epoch [100/1000] | Loss: 0.0001\n",
      "Epoch [200/1000] | Loss: 0.0000\n",
      "Epoch [300/1000] | Loss: 0.0000\n",
      "Epoch [400/1000] | Loss: 0.0000\n",
      "Epoch [500/1000] | Loss: 0.0000\n",
      "Epoch [600/1000] | Loss: 0.0000\n",
      "Epoch [700/1000] | Loss: 0.0000\n",
      "Epoch [800/1000] | Loss: 0.0000\n",
      "Epoch [900/1000] | Loss: 0.0000\n",
      "Epoch [1000/1000] | Loss: 0.0000\n",
      "MODEL 3\n",
      "Epoch [100/1000] | Loss: 0.0003\n",
      "Epoch [200/1000] | Loss: 0.0003\n",
      "Epoch [300/1000] | Loss: 0.0003\n",
      "Epoch [400/1000] | Loss: 0.0003\n",
      "Epoch [500/1000] | Loss: 0.0003\n",
      "Epoch [600/1000] | Loss: 0.0003\n",
      "Epoch [700/1000] | Loss: 0.0003\n",
      "Epoch [800/1000] | Loss: 0.0003\n",
      "Epoch [900/1000] | Loss: 0.0003\n",
      "Epoch [1000/1000] | Loss: 0.0003\n"
     ]
    }
   ],
   "source": [
    "# your code here\n",
    "# Train the model\n",
    "first_epoch = 0\n",
    "no_epochs = 1000\n",
    "\n",
    "print('MODEL 1')\n",
    "for epoch in range(no_epochs):\n",
    "    # Forward pass\n",
    "    output = model1(data_in)\n",
    "    \n",
    "    # Calculate the loss\n",
    "    loss = criterion(output, data_target)\n",
    "    \n",
    "    # Backward pass and optimization\n",
    "    optimizer1.zero_grad()\n",
    "    loss.backward()\n",
    "    optimizer1.step()\n",
    "\n",
    "    # Print the loss every 100 epochs\n",
    "    if (epoch+1) % 100 == 0:\n",
    "        print(f\"Epoch [{epoch+1}/{no_epochs}] | Loss: {loss:.4f}\")\n",
    "\n",
    "    predicted_classes = (output.round() == data_target)\n",
    "    accuracy = predicted_classes.sum().item() / len(data_target)\n",
    "    if accuracy == 1 and first_epoch == 0:\n",
    "        print(f\"Model reached 100% accuracy at epoch {epoch+1}\")\n",
    "        first_epoch = 1\n",
    "\n",
    "\n",
    "print('MODEL 2')\n",
    "for epoch in range(no_epochs):\n",
    "    # Forward pass\n",
    "    output = model2(data_in)\n",
    "    \n",
    "    # Calculate the loss\n",
    "    loss = criterion(output, data_target)\n",
    "        \n",
    "    # Backward pass and optimization\n",
    "    optimizer2.zero_grad()\n",
    "    loss.backward()\n",
    "    optimizer2.step()\n",
    "    \n",
    "    # Print the loss every 100 epochs\n",
    "    if (epoch+1) % 100 == 0:\n",
    "        print(f\"Epoch [{epoch+1}/{no_epochs}] | Loss: {loss:.4f}\")\n",
    "\n",
    "    predicted_classes = (output.round() == data_target)\n",
    "    accuracy = predicted_classes.sum().item() / len(data_target)\n",
    "    if accuracy == 1 and first_epoch == 0:\n",
    "        print(f\"Model reached 100% accuracy at epoch {epoch+1}\")\n",
    "        first_epoch = 1\n",
    "\n",
    "        \n",
    "print('MODEL 3')\n",
    "for epoch in range(no_epochs):\n",
    "    # Forward pass\n",
    "    output = model3(data_in)\n",
    "    \n",
    "    # Calculate the loss\n",
    "    loss = criterion(output, data_target)\n",
    "    \n",
    "    # Backward pass and optimization\n",
    "    optimizer3.zero_grad()\n",
    "    loss.backward()\n",
    "    optimizer3.step()\n",
    "    \n",
    "    # Print the loss every 100 epochs\n",
    "    if (epoch+1) % 100 == 0:\n",
    "        print(f\"Epoch [{epoch+1}/{no_epochs}] | Loss: {loss:.4f}\")\n",
    "        \n",
    "        \n",
    "    predicted_classes = (output.round() == data_target)\n",
    "    accuracy = predicted_classes.sum().item() / len(data_target)\n",
    "    if accuracy == 1 and first_epoch == 0:\n",
    "        print(f\"Model reached 100% accuracy at epoch {epoch+1}\")\n",
    "        first_epoch = 1\n",
    "        "
   ]
  },
  {
   "cell_type": "code",
   "execution_count": 55,
   "id": "dff3ec1a",
   "metadata": {},
   "outputs": [
    {
     "name": "stdout",
     "output_type": "stream",
     "text": [
      "Model 1's predictions:\n",
      "tensor([[0., 0.],\n",
      "        [0., 1.],\n",
      "        [0., 1.],\n",
      "        [1., 0.]])\n",
      "Model 2's predictions:\n",
      "tensor([[0., 0.],\n",
      "        [0., 1.],\n",
      "        [0., 1.],\n",
      "        [1., 0.]])\n",
      "Model 3's predictions:\n",
      "tensor([[0., 0.],\n",
      "        [0., 1.],\n",
      "        [0., 1.],\n",
      "        [1., 0.]])\n"
     ]
    }
   ],
   "source": [
    "# your code here\n",
    "# visualize the resuts\n",
    "\n",
    "# for MODEL 1:\n",
    "\n",
    "output = model1(data_in)\n",
    "\n",
    "# Convert the output probabilities to binary predictions\n",
    "predictions = (output >= 0.5).float()\n",
    "\n",
    "# Print the model's predictions\n",
    "print(\"Model 1's predictions:\")\n",
    "print(predictions)\n",
    "\n",
    "\n",
    "# for MODEL 2:\n",
    "\n",
    "output = model2(data_in)\n",
    "\n",
    "# Convert the output probabilities to binary predictions\n",
    "predictions = (output >= 0.5).float()\n",
    "\n",
    "# Print the model's predictions\n",
    "print(\"Model 2's predictions:\")\n",
    "print(predictions)\n",
    "\n",
    "\n",
    "# for MODEL 3:\n",
    "\n",
    "output = model3(data_in)\n",
    "\n",
    "# Convert the output probabilities to binary predictions\n",
    "predictions = (output >= 0.5).float()\n",
    "\n",
    "# Print the model's predictions\n",
    "print(\"Model 3's predictions:\")\n",
    "print(predictions)\n"
   ]
  },
  {
   "cell_type": "code",
   "execution_count": 50,
   "id": "c1a7518b",
   "metadata": {},
   "outputs": [
    {
     "name": "stdout",
     "output_type": "stream",
     "text": [
      "Accuracy: 75.00%\n",
      "Accuracy: 87.50%\n",
      "Accuracy: 100.00%\n",
      "Model 3 is the best!\n"
     ]
    }
   ],
   "source": [
    "# your code here\n",
    "# print model wights\n",
    "\n",
    "\n",
    "accuracies = []\n",
    "models = [model1, model2, model3]\n",
    "for model in models:\n",
    "    model.eval()\n",
    "    with torch.no_grad():\n",
    "        outputs = model(data_in)\n",
    "        predicted = (outputs >= 0.5).float()\n",
    "        accuracy = (predicted == data_target).float().mean()\n",
    "        accuracies.append(accuracy)\n",
    "\n",
    "    print(\"Accuracy: {:.2f}%\".format(accuracy.item() * 100))\n",
    "    \n",
    "# Select the best-performing model\n",
    "best_model = models[accuracies.index(max(accuracies))]\n",
    "\n",
    "print('Model ' + str(accuracies.index(max(accuracies)) + 1) + ' is the best!')"
   ]
  },
  {
   "cell_type": "code",
   "execution_count": null,
   "id": "4cdf09ba",
   "metadata": {},
   "outputs": [],
   "source": []
  },
  {
   "cell_type": "code",
   "execution_count": null,
   "id": "d0bea66c",
   "metadata": {},
   "outputs": [],
   "source": []
  },
  {
   "cell_type": "code",
   "execution_count": null,
   "id": "e29c65a2",
   "metadata": {},
   "outputs": [],
   "source": []
  }
 ],
 "metadata": {
  "kernelspec": {
   "display_name": "Python 3 (ipykernel)",
   "language": "python",
   "name": "python3"
  },
  "language_info": {
   "codemirror_mode": {
    "name": "ipython",
    "version": 3
   },
   "file_extension": ".py",
   "mimetype": "text/x-python",
   "name": "python",
   "nbconvert_exporter": "python",
   "pygments_lexer": "ipython3",
   "version": "3.8.16"
  }
 },
 "nbformat": 4,
 "nbformat_minor": 5
}
